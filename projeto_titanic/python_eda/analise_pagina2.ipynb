{
 "cells": [
  {
   "cell_type": "code",
   "execution_count": 1,
   "id": "649c917f",
   "metadata": {},
   "outputs": [
    {
     "name": "stdout",
     "output_type": "stream",
     "text": [
      "\n",
      "Classe 1ª:\n",
      "  Total: 216\n",
      "  Idade média: 38.2\n",
      "  Sobreviventes: 136\n",
      "  Mais jovem: Allison, Master. Hudson Trevor (0.92 anos)\n",
      "  Mais velho: Barkworth, Mr. Algernon Henry Wilson (80 anos)\n",
      "\n",
      "Classe 2ª:\n",
      "  Total: 184\n",
      "  Idade média: 29.9\n",
      "  Sobreviventes: 87\n",
      "  Mais jovem: Hamalainen, Master. Viljo (0.67 anos)\n",
      "  Mais velho: Mitchell, Mr. Henry Michael (70 anos)\n",
      "\n",
      "Classe 3ª:\n",
      "  Total: 491\n",
      "  Idade média: 25.1\n",
      "  Sobreviventes: 119\n",
      "  Mais jovem: Thomas, Master. Assad Alexander (0.42 anos)\n",
      "  Mais velho: Svensson, Mr. Johan (74 anos)\n"
     ]
    }
   ],
   "source": [
    "import csv  # Leitura de arquivos CSV\n",
    "\n",
    "# Carrega os dados do Titanic\n",
    "with open(\"../data/train.csv\", encoding=\"utf-8\") as f:\n",
    "    dados = list(csv.DictReader(f))\n",
    "\n",
    "# Itera sobre as 3 classes sociais: 1ª, 2ª e 3ª\n",
    "for classe in [\"1\", \"2\", \"3\"]:\n",
    "    # Filtra passageiros daquela classe\n",
    "    passageiros = [p for p in dados if p[\"Pclass\"] == classe]\n",
    "\n",
    "    # Extrai as idades válidas\n",
    "    idades = [float(p[\"Age\"]) for p in passageiros if p[\"Age\"]]\n",
    "    media = round(sum(idades) / len(idades), 1) if idades else 0\n",
    "\n",
    "    # Conta os sobreviventes\n",
    "    sobreviventes = [p for p in passageiros if p[\"Survived\"] == \"1\"]\n",
    "\n",
    "    print(f\"\\nClasse {classe}ª:\")\n",
    "    print(f\"  Total: {len(passageiros)}\")\n",
    "    print(f\"  Idade média: {media}\")\n",
    "    print(f\"  Sobreviventes: {len(sobreviventes)}\")\n",
    "\n",
    "    # Encontra o mais jovem e mais velho com idade conhecida\n",
    "    jovens = [p for p in passageiros if p[\"Age\"]]\n",
    "    mais_jovem = min(jovens, key=lambda x: float(x[\"Age\"]))\n",
    "    mais_velho = max(jovens, key=lambda x: float(x[\"Age\"]))\n",
    "\n",
    "    print(f\"  Mais jovem: {mais_jovem['Name']} ({mais_jovem['Age']} anos)\")\n",
    "    print(f\"  Mais velho: {mais_velho['Name']} ({mais_velho['Age']} anos)\")\n"
   ]
  }
 ],
 "metadata": {
  "kernelspec": {
   "display_name": "Python 3",
   "language": "python",
   "name": "python3"
  },
  "language_info": {
   "codemirror_mode": {
    "name": "ipython",
    "version": 3
   },
   "file_extension": ".py",
   "mimetype": "text/x-python",
   "name": "python",
   "nbconvert_exporter": "python",
   "pygments_lexer": "ipython3",
   "version": "3.13.2"
  }
 },
 "nbformat": 4,
 "nbformat_minor": 5
}
