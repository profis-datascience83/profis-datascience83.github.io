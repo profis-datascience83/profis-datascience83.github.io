{
 "cells": [
  {
   "cell_type": "code",
   "execution_count": 1,
   "id": "e9426718",
   "metadata": {},
   "outputs": [
    {
     "name": "stdout",
     "output_type": "stream",
     "text": [
      "Total de passageiros: 891\n",
      "Sobreviventes: 342\n",
      "Taxa de sobrevivência: 38.4%\n",
      "Homens sobreviventes: 109\n",
      "Mulheres sobreviventes: 233\n",
      "Distribuição por faixa etária entre sobreviventes:\n",
      "0–17: 61\n",
      "18–40: 174\n",
      "41–60: 50\n",
      "60+: 5\n"
     ]
    }
   ],
   "source": [
    "import csv  # Importa o módulo para ler arquivos CSV\n",
    "\n",
    "# Abre o arquivo com os dados do Titanic\n",
    "with open(\"../data/train.csv\", encoding=\"utf-8\") as f:\n",
    "    dados = list(csv.DictReader(f))  # Converte o CSV para uma lista de dicionários\n",
    "\n",
    "# Calcula o total de passageiros\n",
    "total = len(dados)\n",
    "\n",
    "# Filtra apenas os passageiros que sobreviveram (Survived == \"1\")\n",
    "sobreviventes = [p for p in dados if p[\"Survived\"] == \"1\"]\n",
    "\n",
    "# Calcula a taxa de sobrevivência em porcentagem\n",
    "taxa = round(len(sobreviventes) / total * 100, 1)\n",
    "\n",
    "# Exibe os dados gerais\n",
    "print(f\"Total de passageiros: {total}\")\n",
    "print(f\"Sobreviventes: {len(sobreviventes)}\")\n",
    "print(f\"Taxa de sobrevivência: {taxa}%\")\n",
    "\n",
    "# Separa os sobreviventes por sexo\n",
    "homens = [p for p in sobreviventes if p[\"Sex\"] == \"male\"]\n",
    "mulheres = [p for p in sobreviventes if p[\"Sex\"] == \"female\"]\n",
    "\n",
    "print(f\"Homens sobreviventes: {len(homens)}\")\n",
    "print(f\"Mulheres sobreviventes: {len(mulheres)}\")\n",
    "\n",
    "# Inicializa o dicionário para contar por faixa etária\n",
    "faixas = {\n",
    "    \"0–17\": 0,\n",
    "    \"18–40\": 0,\n",
    "    \"41–60\": 0,\n",
    "    \"60+\": 0\n",
    "}\n",
    "\n",
    "# Classifica cada sobrevivente em uma faixa etária\n",
    "for p in sobreviventes:\n",
    "    idade = p[\"Age\"]\n",
    "    if idade:\n",
    "        idade = float(idade)\n",
    "        if idade < 18:\n",
    "            faixas[\"0–17\"] += 1\n",
    "        elif idade <= 40:\n",
    "            faixas[\"18–40\"] += 1\n",
    "        elif idade <= 60:\n",
    "            faixas[\"41–60\"] += 1\n",
    "        else:\n",
    "            faixas[\"60+\"] += 1\n",
    "\n",
    "# Mostra o resultado por faixa etária\n",
    "print(\"Distribuição por faixa etária entre sobreviventes:\")\n",
    "for faixa, qtd in faixas.items():\n",
    "    print(f\"{faixa}: {qtd}\")\n"
   ]
  }
 ],
 "metadata": {
  "kernelspec": {
   "display_name": "Python 3",
   "language": "python",
   "name": "python3"
  },
  "language_info": {
   "codemirror_mode": {
    "name": "ipython",
    "version": 3
   },
   "file_extension": ".py",
   "mimetype": "text/x-python",
   "name": "python",
   "nbconvert_exporter": "python",
   "pygments_lexer": "ipython3",
   "version": "3.13.2"
  }
 },
 "nbformat": 4,
 "nbformat_minor": 5
}
