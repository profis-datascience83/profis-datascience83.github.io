{
 "cells": [
  {
   "cell_type": "code",
   "execution_count": null,
   "id": "db2de006",
   "metadata": {},
   "outputs": [
    {
     "ename": "FileNotFoundError",
     "evalue": "[Errno 2] No such file or directory: '../data_titanic/train.csv'",
     "output_type": "error",
     "traceback": [
      "\u001b[31m---------------------------------------------------------------------------\u001b[39m",
      "\u001b[31mFileNotFoundError\u001b[39m                         Traceback (most recent call last)",
      "\u001b[36mCell\u001b[39m\u001b[36m \u001b[39m\u001b[32mIn[1]\u001b[39m\u001b[32m, line 4\u001b[39m\n\u001b[32m      1\u001b[39m \u001b[38;5;28;01mimport\u001b[39;00m\u001b[38;5;250m \u001b[39m\u001b[34;01mcsv\u001b[39;00m  \u001b[38;5;66;03m# Importa o módulo para ler arquivos CSV\u001b[39;00m\n\u001b[32m      3\u001b[39m \u001b[38;5;66;03m# Abre o arquivo com os dados do Titanic\u001b[39;00m\n\u001b[32m----> \u001b[39m\u001b[32m4\u001b[39m \u001b[38;5;28;01mwith\u001b[39;00m \u001b[38;5;28;43mopen\u001b[39;49m\u001b[43m(\u001b[49m\u001b[33;43m\"\u001b[39;49m\u001b[33;43m../data_titanic/train.csv\u001b[39;49m\u001b[33;43m\"\u001b[39;49m\u001b[43m,\u001b[49m\u001b[43m \u001b[49m\u001b[43mencoding\u001b[49m\u001b[43m=\u001b[49m\u001b[33;43m\"\u001b[39;49m\u001b[33;43mutf-8\u001b[39;49m\u001b[33;43m\"\u001b[39;49m\u001b[43m)\u001b[49m \u001b[38;5;28;01mas\u001b[39;00m f:\n\u001b[32m      5\u001b[39m     dados = \u001b[38;5;28mlist\u001b[39m(csv.DictReader(f))  \u001b[38;5;66;03m# Converte o CSV para uma lista de dicionários\u001b[39;00m\n",
      "\u001b[36mFile \u001b[39m\u001b[32m~/.local/lib/python3.12/site-packages/IPython/core/interactiveshell.py:325\u001b[39m, in \u001b[36m_modified_open\u001b[39m\u001b[34m(file, *args, **kwargs)\u001b[39m\n\u001b[32m    318\u001b[39m \u001b[38;5;28;01mif\u001b[39;00m file \u001b[38;5;129;01min\u001b[39;00m {\u001b[32m0\u001b[39m, \u001b[32m1\u001b[39m, \u001b[32m2\u001b[39m}:\n\u001b[32m    319\u001b[39m     \u001b[38;5;28;01mraise\u001b[39;00m \u001b[38;5;167;01mValueError\u001b[39;00m(\n\u001b[32m    320\u001b[39m         \u001b[33mf\u001b[39m\u001b[33m\"\u001b[39m\u001b[33mIPython won\u001b[39m\u001b[33m'\u001b[39m\u001b[33mt let you open fd=\u001b[39m\u001b[38;5;132;01m{\u001b[39;00mfile\u001b[38;5;132;01m}\u001b[39;00m\u001b[33m by default \u001b[39m\u001b[33m\"\u001b[39m\n\u001b[32m    321\u001b[39m         \u001b[33m\"\u001b[39m\u001b[33mas it is likely to crash IPython. If you know what you are doing, \u001b[39m\u001b[33m\"\u001b[39m\n\u001b[32m    322\u001b[39m         \u001b[33m\"\u001b[39m\u001b[33myou can use builtins\u001b[39m\u001b[33m'\u001b[39m\u001b[33m open.\u001b[39m\u001b[33m\"\u001b[39m\n\u001b[32m    323\u001b[39m     )\n\u001b[32m--> \u001b[39m\u001b[32m325\u001b[39m \u001b[38;5;28;01mreturn\u001b[39;00m \u001b[43mio_open\u001b[49m\u001b[43m(\u001b[49m\u001b[43mfile\u001b[49m\u001b[43m,\u001b[49m\u001b[43m \u001b[49m\u001b[43m*\u001b[49m\u001b[43margs\u001b[49m\u001b[43m,\u001b[49m\u001b[43m \u001b[49m\u001b[43m*\u001b[49m\u001b[43m*\u001b[49m\u001b[43mkwargs\u001b[49m\u001b[43m)\u001b[49m\n",
      "\u001b[31mFileNotFoundError\u001b[39m: [Errno 2] No such file or directory: '../data_titanic/train.csv'"
     ]
    }
   ],
   "source": [
    "import csv  # Importa o módulo para ler arquivos CSV\n",
    "\n",
    "# Abre o arquivo com os dados do Titanic\n",
    "with open(\"../data_titanic/train.csv\", encoding=\"utf-8\") as f:\n",
    "    dados = list(csv.DictReader(f))  # Converte o CSV para uma lista de dicionários"
   ]
  },
  {
   "cell_type": "code",
   "execution_count": null,
   "id": "e9426718",
   "metadata": {},
   "outputs": [
    {
     "name": "stdout",
     "output_type": "stream",
     "text": [
      "Total de passageiros: 891\n",
      "Sobreviventes: 342\n",
      "Taxa de sobrevivência: 38.4%\n",
      "Homens sobreviventes: 109\n",
      "Mulheres sobreviventes: 233\n",
      "Distribuição por faixa etária entre sobreviventes:\n",
      "0–17: 61\n",
      "18–40: 174\n",
      "41–60: 50\n",
      "60+: 5\n"
     ]
    }
   ],
   "source": [
    "\n",
    "\n",
    "# Calcula o total de passageiros\n",
    "total = len(dados)\n",
    "\n",
    "# Filtra apenas os passageiros que sobreviveram (Survived == \"1\")\n",
    "sobreviventes = [p for p in dados if p[\"Survived\"] == \"1\"]\n",
    "\n",
    "# Calcula a taxa de sobrevivência em porcentagem\n",
    "taxa = round(len(sobreviventes) / total * 100, 1)\n",
    "\n",
    "# Exibe os dados gerais\n",
    "print(f\"Total de passageiros: {total}\")\n",
    "print(f\"Sobreviventes: {len(sobreviventes)}\")\n",
    "print(f\"Taxa de sobrevivência: {taxa}%\")\n",
    "\n",
    "# Separa os sobreviventes por sexo\n",
    "homens = [p for p in sobreviventes if p[\"Sex\"] == \"male\"]\n",
    "mulheres = [p for p in sobreviventes if p[\"Sex\"] == \"female\"]\n",
    "\n",
    "print(f\"Homens sobreviventes: {len(homens)}\")\n",
    "print(f\"Mulheres sobreviventes: {len(mulheres)}\")\n",
    "\n",
    "# Inicializa o dicionário para contar por faixa etária\n",
    "faixas = {\n",
    "    \"0–17\": 0,\n",
    "    \"18–40\": 0,\n",
    "    \"41–60\": 0,\n",
    "    \"60+\": 0\n",
    "}\n",
    "\n",
    "# Classifica cada sobrevivente em uma faixa etária\n",
    "for p in sobreviventes:\n",
    "    idade = p[\"Age\"]\n",
    "    if idade:\n",
    "        idade = float(idade)\n",
    "        if idade < 18:\n",
    "            faixas[\"0–17\"] += 1\n",
    "        elif idade <= 40:\n",
    "            faixas[\"18–40\"] += 1\n",
    "        elif idade <= 60:\n",
    "            faixas[\"41–60\"] += 1\n",
    "        else:\n",
    "            faixas[\"60+\"] += 1\n",
    "\n",
    "# Mostra o resultado por faixa etária\n",
    "print(\"Distribuição por faixa etária entre sobreviventes:\")\n",
    "for faixa, qtd in faixas.items():\n",
    "    print(f\"{faixa}: {qtd}\")\n"
   ]
  }
 ],
 "metadata": {
  "kernelspec": {
   "display_name": "Python 3 (ipykernel)",
   "language": "python",
   "name": "python3"
  },
  "language_info": {
   "codemirror_mode": {
    "name": "ipython",
    "version": 3
   },
   "file_extension": ".py",
   "mimetype": "text/x-python",
   "name": "python",
   "nbconvert_exporter": "python",
   "pygments_lexer": "ipython3",
   "version": "3.12.1"
  }
 },
 "nbformat": 4,
 "nbformat_minor": 5
}
